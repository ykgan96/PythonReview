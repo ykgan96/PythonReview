{
 "cells": [
  {
   "cell_type": "markdown",
   "metadata": {},
   "source": [
    "# Object Oriented Programming / OOP\n",
    "1. Encapsulation: a class object brings together data and functions, and protects them from outside interference.\n",
    "2. Inheritence: a child class can inherit the structure of its parent class.\n",
    "3. Polymophism: a child class can have some differences from its parent class. \n",
    "4. Data Abstraction: display important information while hiding implementation details"
   ]
  },
  {
   "cell_type": "code",
   "execution_count": 1,
   "metadata": {},
   "outputs": [],
   "source": [
    "class Animal(object):\n",
    "    number_of_animals = 0\n",
    "    number_of_calls = 0\n",
    "    \n",
    "    def __init__(self, name, age):\n",
    "        self.name = name\n",
    "        self.age = age\n",
    "        Animal.number_of_calls += 1\n",
    "    \n",
    "    @staticmethod\n",
    "    def truth():\n",
    "        print(\"A dog is an animal.\")\n",
    "    \n",
    "    @staticmethod\n",
    "    def add_5(number):\n",
    "        print(f\"{number} + 5 = {number+5}\")\n",
    "    \n",
    "    @classmethod\n",
    "    def add_animal_count(cls):\n",
    "        cls.number_of_animals += 1\n",
    "    \n",
    "    def introduce(self):\n",
    "        print(f\"My name is {self.name} and I'm {self.age} years old.\")\n",
    "        \n",
    "    def speak(self):\n",
    "        print(\"I don't know what to say.\")"
   ]
  },
  {
   "cell_type": "code",
   "execution_count": 2,
   "metadata": {},
   "outputs": [
    {
     "name": "stdout",
     "output_type": "stream",
     "text": [
      "My name is Apple and I'm 14 years old.\n",
      "I don't know what to say.\n",
      "0\n",
      "1\n",
      "1\n",
      "2\n"
     ]
    }
   ],
   "source": [
    "# def parent class\n",
    "a = Animal(\"Apple\", 14) \n",
    "\n",
    "# call functions of parent class\n",
    "a.introduce() \n",
    "a.speak()\n",
    "\n",
    "# class method 1 - access with instance\n",
    "print(a.number_of_animals)\n",
    "a.add_animal_count()\n",
    "print(a.number_of_animals)\n",
    "\n",
    "# class method - access without instance\n",
    "print(Animal.number_of_animals)\n",
    "Animal.add_animal_count()\n",
    "print(Animal.number_of_animals)"
   ]
  },
  {
   "cell_type": "code",
   "execution_count": 3,
   "metadata": {},
   "outputs": [
    {
     "name": "stdout",
     "output_type": "stream",
     "text": [
      "A dog is an animal.\n",
      "13 + 5 = 18\n",
      "Animal class has been called for 1 times\n"
     ]
    }
   ],
   "source": [
    "# call static methods of Animal class - don't need instances\n",
    "Animal.truth()\n",
    "Animal.add_5(13)\n",
    "\n",
    "# see class attributes\n",
    "print(f\"Animal class has been called for {Animal.number_of_calls} times\")"
   ]
  },
  {
   "cell_type": "code",
   "execution_count": 4,
   "metadata": {},
   "outputs": [],
   "source": [
    "class Dog(Animal):\n",
    "    def speak(self):\n",
    "        print(\"Bark!\")\n",
    "    \n",
    "    def different(self):\n",
    "        print(\"I'm different because I can fetch balls for kids!\")"
   ]
  },
  {
   "cell_type": "code",
   "execution_count": 5,
   "metadata": {},
   "outputs": [
    {
     "name": "stdout",
     "output_type": "stream",
     "text": [
      "My name is Dimmy and I'm 8 years old.\n",
      "Bark!\n",
      "I'm different because I can fetch balls for kids!\n"
     ]
    }
   ],
   "source": [
    "# def child class\n",
    "d = Dog(\"Dimmy\", 8)\n",
    "\n",
    "#call child class function - same function name and content\n",
    "d.introduce()\n",
    "\n",
    "# call child class function - same function name but different contents\n",
    "d.speak()\n",
    "\n",
    "# # call child class function - different name and contents (unseen function in parent class)\n",
    "d.different()"
   ]
  },
  {
   "cell_type": "code",
   "execution_count": 6,
   "metadata": {},
   "outputs": [],
   "source": [
    "class Cat(Animal):\n",
    "    def __init__(self, name, age, color):\n",
    "        super().__init__(name, age)\n",
    "        self.color = color\n",
    "    \n",
    "    def introduce(self):\n",
    "        print(f\"My name is {self.name}, I'm {self.age} years old and {self.color}.\")"
   ]
  },
  {
   "cell_type": "code",
   "execution_count": 7,
   "metadata": {},
   "outputs": [
    {
     "name": "stdout",
     "output_type": "stream",
     "text": [
      "My name is Cry, I'm 3 years old and yellow.\n"
     ]
    }
   ],
   "source": [
    "# def child class with more info\n",
    "c = Cat(\"Cry\", 3, \"yellow\")\n",
    "\n",
    "# call function\n",
    "c.introduce()"
   ]
  },
  {
   "cell_type": "code",
   "execution_count": 8,
   "metadata": {},
   "outputs": [
    {
     "data": {
      "text/plain": [
       "(3, 3, 3, 3)"
      ]
     },
     "execution_count": 8,
     "metadata": {},
     "output_type": "execute_result"
    }
   ],
   "source": [
    "# class attribute\n",
    "Animal.number_of_calls, a.number_of_calls, d.number_of_calls, c.number_of_calls #pass by reference"
   ]
  },
  {
   "cell_type": "markdown",
   "metadata": {},
   "source": [
    "# Data Abstraction"
   ]
  },
  {
   "cell_type": "code",
   "execution_count": 9,
   "metadata": {},
   "outputs": [],
   "source": [
    "from abc import abstractmethod, ABC"
   ]
  },
  {
   "cell_type": "markdown",
   "metadata": {},
   "source": [
    "implement @abstractmethod is optional"
   ]
  },
  {
   "cell_type": "code",
   "execution_count": 10,
   "metadata": {},
   "outputs": [],
   "source": [
    "class Vehicle(object):\n",
    "    def __init__(self, maxSpeed, age):\n",
    "        self.maxSpeed = maxSpeed\n",
    "        self.age = age\n",
    "        self.__private = \"private\"\n",
    "    \n",
    "    @abstractmethod\n",
    "    def drive(self):\n",
    "        print(\"Drive for Vehicle.\")\n",
    "        \n",
    "class Car(Vehicle):\n",
    "    def __init__(self, canClimbMountain, maxSpeed, age):\n",
    "        super().__init__(maxSpeed, age)\n",
    "        self.__canClimbMountain = canClimbMountain # private/abstract variable"
   ]
  },
  {
   "cell_type": "code",
   "execution_count": 11,
   "metadata": {},
   "outputs": [
    {
     "name": "stdout",
     "output_type": "stream",
     "text": [
      "Drive for Vehicle.\n",
      "True\n"
     ]
    }
   ],
   "source": [
    "car1 = Car(True, 150, 3)\n",
    "car1.drive()\n",
    "print(car1._Car__canClimbMountain) # access private variable name mangling"
   ]
  },
  {
   "cell_type": "code",
   "execution_count": 12,
   "metadata": {},
   "outputs": [
    {
     "data": {
      "text/plain": [
       "'private'"
      ]
     },
     "execution_count": 12,
     "metadata": {},
     "output_type": "execute_result"
    }
   ],
   "source": [
    "car1._Vehicle__private"
   ]
  },
  {
   "cell_type": "markdown",
   "metadata": {},
   "source": [
    "implement @abstractmethod is required"
   ]
  },
  {
   "cell_type": "code",
   "execution_count": 13,
   "metadata": {},
   "outputs": [],
   "source": [
    "class Vehicles(ABC):\n",
    "    def __init__(self, maxSpeed, age):\n",
    "        self.maxSpeed = maxSpeed\n",
    "        self.age = age\n",
    "    \n",
    "    @abstractmethod\n",
    "    def drive(self):\n",
    "        #print(\"Drive for Vehicle.\")\n",
    "        pass\n",
    "        \n",
    "class Cars(Vehicles):\n",
    "    def __init__(self, canClimbMountain, maxSpeed, age):\n",
    "        super().__init__(maxSpeed, age)\n",
    "        self.__canClimbMountain = canClimbMountain # private/abstract variable"
   ]
  },
  {
   "cell_type": "code",
   "execution_count": 14,
   "metadata": {},
   "outputs": [
    {
     "ename": "TypeError",
     "evalue": "Can't instantiate abstract class Cars with abstract methods drive",
     "output_type": "error",
     "traceback": [
      "\u001b[0;31m---------------------------------------------------------------------------\u001b[0m",
      "\u001b[0;31mTypeError\u001b[0m                                 Traceback (most recent call last)",
      "\u001b[0;32m<ipython-input-14-4888f11dc1e6>\u001b[0m in \u001b[0;36m<module>\u001b[0;34m\u001b[0m\n\u001b[0;32m----> 1\u001b[0;31m \u001b[0mcars1\u001b[0m \u001b[0;34m=\u001b[0m \u001b[0mCars\u001b[0m\u001b[0;34m(\u001b[0m\u001b[0;32mFalse\u001b[0m\u001b[0;34m,\u001b[0m \u001b[0;36m120\u001b[0m\u001b[0;34m,\u001b[0m \u001b[0;36m2\u001b[0m\u001b[0;34m)\u001b[0m \u001b[0;31m#this doesn't work - have to implement drive func to continue\u001b[0m\u001b[0;34m\u001b[0m\u001b[0;34m\u001b[0m\u001b[0m\n\u001b[0m",
      "\u001b[0;31mTypeError\u001b[0m: Can't instantiate abstract class Cars with abstract methods drive"
     ]
    }
   ],
   "source": [
    "cars1 = Cars(False, 120, 2) #this doesn't work - have to implement drive func to continue"
   ]
  },
  {
   "cell_type": "code",
   "execution_count": 15,
   "metadata": {},
   "outputs": [],
   "source": [
    "class Vehicles2(ABC):\n",
    "    def __init__(self, maxSpeed, age):\n",
    "        self.maxSpeed = maxSpeed\n",
    "        self.age = age\n",
    "    \n",
    "    @abstractmethod\n",
    "    def drive(self):\n",
    "        #print(\"Drive for Vehicle.\")\n",
    "        pass\n",
    "        \n",
    "class Cars2(Vehicles2):\n",
    "    def __init__(self, canClimbMountain, maxSpeed, age):\n",
    "        super().__init__(maxSpeed, age)\n",
    "        self.__canClimbMountain = canClimbMountain # private/abstract variable\n",
    "    \n",
    "    def drive(self):\n",
    "        print(\"Drive for Car.\")"
   ]
  },
  {
   "cell_type": "code",
   "execution_count": 16,
   "metadata": {},
   "outputs": [
    {
     "name": "stdout",
     "output_type": "stream",
     "text": [
      "Drive for Car.\n",
      "False\n"
     ]
    },
    {
     "ename": "AttributeError",
     "evalue": "'Cars2' object has no attribute '__canClimbMountain'",
     "output_type": "error",
     "traceback": [
      "\u001b[0;31m---------------------------------------------------------------------------\u001b[0m",
      "\u001b[0;31mAttributeError\u001b[0m                            Traceback (most recent call last)",
      "\u001b[0;32m<ipython-input-16-b29aca70d2ae>\u001b[0m in \u001b[0;36m<module>\u001b[0;34m\u001b[0m\n\u001b[1;32m      2\u001b[0m \u001b[0manother_cars\u001b[0m\u001b[0;34m.\u001b[0m\u001b[0mdrive\u001b[0m\u001b[0;34m(\u001b[0m\u001b[0;34m)\u001b[0m\u001b[0;34m\u001b[0m\u001b[0;34m\u001b[0m\u001b[0m\n\u001b[1;32m      3\u001b[0m \u001b[0mprint\u001b[0m\u001b[0;34m(\u001b[0m\u001b[0manother_cars\u001b[0m\u001b[0;34m.\u001b[0m\u001b[0m_Cars2__canClimbMountain\u001b[0m\u001b[0;34m)\u001b[0m \u001b[0;31m# this works - Python name mangling\u001b[0m\u001b[0;34m\u001b[0m\u001b[0;34m\u001b[0m\u001b[0m\n\u001b[0;32m----> 4\u001b[0;31m \u001b[0manother_cars\u001b[0m\u001b[0;34m.\u001b[0m\u001b[0m__canClimbMountain\u001b[0m \u001b[0;31m# this doesn't work - private method\u001b[0m\u001b[0;34m\u001b[0m\u001b[0;34m\u001b[0m\u001b[0m\n\u001b[0m",
      "\u001b[0;31mAttributeError\u001b[0m: 'Cars2' object has no attribute '__canClimbMountain'"
     ]
    }
   ],
   "source": [
    "another_cars = Cars2(False, 120, 2)\n",
    "another_cars.drive()\n",
    "print(another_cars._Cars2__canClimbMountain) # this works - Python name mangling\n",
    "another_cars.__canClimbMountain # this doesn't work - private method"
   ]
  },
  {
   "cell_type": "markdown",
   "metadata": {},
   "source": [
    "# Public/Protected/Private Methods in Class"
   ]
  },
  {
   "cell_type": "code",
   "execution_count": 17,
   "metadata": {},
   "outputs": [],
   "source": [
    "class School(object):\n",
    "    def __init__(self, name, city):\n",
    "        self.name = name\n",
    "        self.city = city\n",
    "    \n",
    "    def public(self):\n",
    "        print(\"Public method for School.\")\n",
    "    \n",
    "    def _protected(self): #protected\n",
    "        print(\"Protected method for School.\")\n",
    "        \n",
    "    def __private(self): #private\n",
    "        print(\"Private method for School.\")"
   ]
  },
  {
   "cell_type": "code",
   "execution_count": 18,
   "metadata": {},
   "outputs": [
    {
     "name": "stdout",
     "output_type": "stream",
     "text": [
      "Public method for School.\n",
      "Protected method for School.\n",
      "Private method for School.\n"
     ]
    },
    {
     "ename": "AttributeError",
     "evalue": "'School' object has no attribute '__private'",
     "output_type": "error",
     "traceback": [
      "\u001b[0;31m---------------------------------------------------------------------------\u001b[0m",
      "\u001b[0;31mAttributeError\u001b[0m                            Traceback (most recent call last)",
      "\u001b[0;32m<ipython-input-18-60bb79ace196>\u001b[0m in \u001b[0;36m<module>\u001b[0;34m\u001b[0m\n\u001b[1;32m      3\u001b[0m \u001b[0mcu\u001b[0m\u001b[0;34m.\u001b[0m\u001b[0m_protected\u001b[0m\u001b[0;34m(\u001b[0m\u001b[0;34m)\u001b[0m \u001b[0;31m# this works / protected method\u001b[0m\u001b[0;34m\u001b[0m\u001b[0;34m\u001b[0m\u001b[0m\n\u001b[1;32m      4\u001b[0m \u001b[0mcu\u001b[0m\u001b[0;34m.\u001b[0m\u001b[0m_School__private\u001b[0m\u001b[0;34m(\u001b[0m\u001b[0;34m)\u001b[0m \u001b[0;31m# this works / Python \"name mangling\"\u001b[0m\u001b[0;34m\u001b[0m\u001b[0;34m\u001b[0m\u001b[0m\n\u001b[0;32m----> 5\u001b[0;31m \u001b[0mcu\u001b[0m\u001b[0;34m.\u001b[0m\u001b[0m__private\u001b[0m\u001b[0;34m(\u001b[0m\u001b[0;34m)\u001b[0m \u001b[0;31m# this doesn't work\u001b[0m\u001b[0;34m\u001b[0m\u001b[0;34m\u001b[0m\u001b[0m\n\u001b[0m",
      "\u001b[0;31mAttributeError\u001b[0m: 'School' object has no attribute '__private'"
     ]
    }
   ],
   "source": [
    "cu = School(\"Columbia\", \"New York\")\n",
    "cu.public() # public\n",
    "cu._protected() # this works / protected method\n",
    "cu._School__private() # this works / Python \"name mangling\"\n",
    "cu.__private() # this doesn't work"
   ]
  },
  {
   "cell_type": "code",
   "execution_count": 19,
   "metadata": {},
   "outputs": [],
   "source": [
    "class University(School):\n",
    "    def __init__(self, name, city, rank):\n",
    "        #School.__init__(self, name, city)\n",
    "        super().__init__(name, city)\n",
    "        self.rank = rank\n",
    "    \n",
    "    def call_public(self):\n",
    "        print(f\"University: {self.name}, City: {self.city}\")\n",
    "        self.public()\n",
    "        \n",
    "    def call_private(self):\n",
    "        self.__private()"
   ]
  },
  {
   "cell_type": "code",
   "execution_count": 20,
   "metadata": {},
   "outputs": [
    {
     "name": "stdout",
     "output_type": "stream",
     "text": [
      "University: Columbia, City: New York\n",
      "Public method for School.\n",
      "Protected method for School.\n"
     ]
    },
    {
     "ename": "AttributeError",
     "evalue": "'University' object has no attribute '_University__private'",
     "output_type": "error",
     "traceback": [
      "\u001b[0;31m---------------------------------------------------------------------------\u001b[0m",
      "\u001b[0;31mAttributeError\u001b[0m                            Traceback (most recent call last)",
      "\u001b[0;32m<ipython-input-20-c02ff4e56175>\u001b[0m in \u001b[0;36m<module>\u001b[0;34m\u001b[0m\n\u001b[1;32m      2\u001b[0m \u001b[0mcolumbia\u001b[0m\u001b[0;34m.\u001b[0m\u001b[0mcall_public\u001b[0m\u001b[0;34m(\u001b[0m\u001b[0;34m)\u001b[0m \u001b[0;31m# this works\u001b[0m\u001b[0;34m\u001b[0m\u001b[0;34m\u001b[0m\u001b[0m\n\u001b[1;32m      3\u001b[0m \u001b[0mcolumbia\u001b[0m\u001b[0;34m.\u001b[0m\u001b[0m_protected\u001b[0m\u001b[0;34m(\u001b[0m\u001b[0;34m)\u001b[0m \u001b[0;31m# this works \"_\" is protected func / can be used in child classes\u001b[0m\u001b[0;34m\u001b[0m\u001b[0;34m\u001b[0m\u001b[0m\n\u001b[0;32m----> 4\u001b[0;31m \u001b[0mcolumbia\u001b[0m\u001b[0;34m.\u001b[0m\u001b[0mcall_private\u001b[0m\u001b[0;34m(\u001b[0m\u001b[0;34m)\u001b[0m \u001b[0;31m# this doesn't work / Private method\u001b[0m\u001b[0;34m\u001b[0m\u001b[0;34m\u001b[0m\u001b[0m\n\u001b[0m",
      "\u001b[0;32m<ipython-input-19-a8504879683a>\u001b[0m in \u001b[0;36mcall_private\u001b[0;34m(self)\u001b[0m\n\u001b[1;32m     10\u001b[0m \u001b[0;34m\u001b[0m\u001b[0m\n\u001b[1;32m     11\u001b[0m     \u001b[0;32mdef\u001b[0m \u001b[0mcall_private\u001b[0m\u001b[0;34m(\u001b[0m\u001b[0mself\u001b[0m\u001b[0;34m)\u001b[0m\u001b[0;34m:\u001b[0m\u001b[0;34m\u001b[0m\u001b[0;34m\u001b[0m\u001b[0m\n\u001b[0;32m---> 12\u001b[0;31m         \u001b[0mself\u001b[0m\u001b[0;34m.\u001b[0m\u001b[0m__private\u001b[0m\u001b[0;34m(\u001b[0m\u001b[0;34m)\u001b[0m\u001b[0;34m\u001b[0m\u001b[0;34m\u001b[0m\u001b[0m\n\u001b[0m",
      "\u001b[0;31mAttributeError\u001b[0m: 'University' object has no attribute '_University__private'"
     ]
    }
   ],
   "source": [
    "columbia = University(\"Columbia\", \"New York\", 2)\n",
    "columbia.call_public() # this works\n",
    "columbia._protected() # this works \"_\" is protected func / can be used in child classes\n",
    "columbia.call_private() # this doesn't work / Private method"
   ]
  },
  {
   "cell_type": "code",
   "execution_count": 21,
   "metadata": {},
   "outputs": [
    {
     "name": "stdout",
     "output_type": "stream",
     "text": [
      "Private method for School.\n"
     ]
    },
    {
     "ename": "AttributeError",
     "evalue": "'University' object has no attribute '_University__private'",
     "output_type": "error",
     "traceback": [
      "\u001b[0;31m---------------------------------------------------------------------------\u001b[0m",
      "\u001b[0;31mAttributeError\u001b[0m                            Traceback (most recent call last)",
      "\u001b[0;32m<ipython-input-21-f667ac4abcd9>\u001b[0m in \u001b[0;36m<module>\u001b[0;34m\u001b[0m\n\u001b[1;32m      1\u001b[0m \u001b[0mcolumbia\u001b[0m\u001b[0;34m.\u001b[0m\u001b[0m_School__private\u001b[0m\u001b[0;34m(\u001b[0m\u001b[0;34m)\u001b[0m \u001b[0;31m# this works / Python \"name mangling\"\u001b[0m\u001b[0;34m\u001b[0m\u001b[0;34m\u001b[0m\u001b[0m\n\u001b[0;32m----> 2\u001b[0;31m \u001b[0mcolumbia\u001b[0m\u001b[0;34m.\u001b[0m\u001b[0m_University__private\u001b[0m\u001b[0;34m(\u001b[0m\u001b[0;34m)\u001b[0m \u001b[0;31m# this doesn't work / private method\u001b[0m\u001b[0;34m\u001b[0m\u001b[0;34m\u001b[0m\u001b[0m\n\u001b[0m",
      "\u001b[0;31mAttributeError\u001b[0m: 'University' object has no attribute '_University__private'"
     ]
    }
   ],
   "source": [
    "columbia._School__private() # this works / Python \"name mangling\"\n",
    "columbia._University__private() # this doesn't work / private method"
   ]
  },
  {
   "cell_type": "code",
   "execution_count": null,
   "metadata": {},
   "outputs": [],
   "source": []
  }
 ],
 "metadata": {
  "kernelspec": {
   "display_name": "Python 3",
   "language": "python",
   "name": "python3"
  },
  "language_info": {
   "codemirror_mode": {
    "name": "ipython",
    "version": 3
   },
   "file_extension": ".py",
   "mimetype": "text/x-python",
   "name": "python",
   "nbconvert_exporter": "python",
   "pygments_lexer": "ipython3",
   "version": "3.7.4"
  }
 },
 "nbformat": 4,
 "nbformat_minor": 2
}
